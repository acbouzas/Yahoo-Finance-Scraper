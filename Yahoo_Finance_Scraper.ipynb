{
 "cells": [
  {
   "cell_type": "code",
   "execution_count": 1,
   "metadata": {},
   "outputs": [],
   "source": [
    "import pandas as pd\n",
    "from bs4 import BeautifulSoup\n",
    "import requests\n",
    "import csv\n",
    "import selenium\n",
    "from selenium import webdriver"
   ]
  },
  {
   "cell_type": "markdown",
   "metadata": {},
   "source": [
    "## 1. Scrape yahoo finance"
   ]
  },
  {
   "cell_type": "code",
   "execution_count": 2,
   "metadata": {},
   "outputs": [],
   "source": [
    "def getData(tickers):\n",
    "    \"\"\"Scrapes yahoo finance data given a stock ticker list\"\"\"\n",
    "    stocks_data = []\n",
    "    for ticker in tickers:\n",
    "        url = f'https://finance.yahoo.com/quote/{ticker}?p={ticker}&.tsrc=fin-srch'\n",
    "\n",
    "        # Setting a header in order to let yahoo finance website o recognize our script as a normal browser\n",
    "        headers = {'User-Agent' : 'Mozilla/5.0 (X11; Linux x86_64) AppleWebKit/537.36 (KHTML, like Gecko) Chrome/99.0.4844.51 Safari/537.36'}\n",
    "        # requesting info to the Y.F. server\n",
    "        r = requests.get(url, headers = headers)\n",
    "        # creating the bs4 object\n",
    "        soup = BeautifulSoup(r.text, 'html.parser') \n",
    "\n",
    "        # Extracting ticker\n",
    "        ticker_tag = soup.find('fin-streamer', attrs={'class':'Fw(b) Fz(36px) Mb(-4px) D(ib)'})\n",
    "        ticker = ticker_tag['data-symbol']\n",
    "\n",
    "        # Extracting price\n",
    "        price_tag = soup.find('fin-streamer', attrs={'class':'Fw(b) Fz(36px) Mb(-4px) D(ib)','data-field': 'regularMarketPrice'})\n",
    "        price = float(price_tag['value'])\n",
    "\n",
    "        # Extracting change\n",
    "        change_tag = soup.find('fin-streamer', attrs={'class':'Fw(500) Pstart(8px) Fz(24px)','data-field': 'regularMarketChange'})\n",
    "        change = float(change_tag['value'])\n",
    "\n",
    "        # Extracting percent change\n",
    "        percent_change_tag = soup.find('fin-streamer', attrs={'class':'Fw(500) Pstart(8px) Fz(24px)','data-field': 'regularMarketChangePercent'})\n",
    "        percent_change = float(percent_change_tag['value'])*100\n",
    "\n",
    "        stock_data = {\n",
    "        'Ticker': ticker,\n",
    "        'Price': price,\n",
    "        'Change': change,\n",
    "        'Percent Change': percent_change\n",
    "        }\n",
    "        \n",
    "        stocks_data.append(stock_data)\n",
    "        \n",
    "    return stocks_data"
   ]
  },
  {
   "cell_type": "markdown",
   "metadata": {},
   "source": [
    "## 2. Get Nasdaq Tickers to scrape"
   ]
  },
  {
   "cell_type": "code",
   "execution_count": 3,
   "metadata": {},
   "outputs": [],
   "source": [
    "url = 'https://stockanalysis.com/list/nasdaq-stocks/'"
   ]
  },
  {
   "cell_type": "code",
   "execution_count": 4,
   "metadata": {},
   "outputs": [],
   "source": [
    "def extract_data(url):\n",
    "    \"\"\"Scrapes tickers given a specific url\"\"\"\n",
    "    \n",
    "    # Using Selenium and bs4 to get the html page source and parse it\n",
    "    driver = webdriver.Chrome()\n",
    "    driver.get(url)\n",
    "    soup = BeautifulSoup(driver.page_source, 'html.parser') \n",
    "    \n",
    "    # Find the table by its class\n",
    "    table = soup.find('table', class_='symbol-table')\n",
    "\n",
    "    # Extract table rows from the table body\n",
    "    rows = table.find('tbody').find_all('tr')\n",
    "\n",
    "    # Initialize a list to store the parsed data\n",
    "    parsed_data = []\n",
    "\n",
    "    # Iterate through each row and extract the data\n",
    "    for row in rows:\n",
    "        cols = row.find_all('td')\n",
    "        row_data = [col.get_text(strip=True) for col in cols]\n",
    "        parsed_data.append(row_data)\n",
    "    \n",
    "    return pd.DataFrame(parsed_data)"
   ]
  },
  {
   "cell_type": "code",
   "execution_count": 5,
   "metadata": {},
   "outputs": [],
   "source": [
    "table = extract_data(url)"
   ]
  },
  {
   "cell_type": "code",
   "execution_count": 6,
   "metadata": {},
   "outputs": [
    {
     "data": {
      "text/html": [
       "<div>\n",
       "<style scoped>\n",
       "    .dataframe tbody tr th:only-of-type {\n",
       "        vertical-align: middle;\n",
       "    }\n",
       "\n",
       "    .dataframe tbody tr th {\n",
       "        vertical-align: top;\n",
       "    }\n",
       "\n",
       "    .dataframe thead th {\n",
       "        text-align: right;\n",
       "    }\n",
       "</style>\n",
       "<table border=\"1\" class=\"dataframe\">\n",
       "  <thead>\n",
       "    <tr style=\"text-align: right;\">\n",
       "      <th></th>\n",
       "      <th>0</th>\n",
       "      <th>1</th>\n",
       "      <th>2</th>\n",
       "      <th>3</th>\n",
       "      <th>4</th>\n",
       "      <th>5</th>\n",
       "      <th>6</th>\n",
       "    </tr>\n",
       "  </thead>\n",
       "  <tbody>\n",
       "    <tr>\n",
       "      <th>0</th>\n",
       "      <td>1</td>\n",
       "      <td>AAPL</td>\n",
       "      <td>Apple Inc.</td>\n",
       "      <td>2,781.64B</td>\n",
       "      <td>178.01</td>\n",
       "      <td>-1.72%</td>\n",
       "      <td>383.93B</td>\n",
       "    </tr>\n",
       "    <tr>\n",
       "      <th>1</th>\n",
       "      <td>2</td>\n",
       "      <td>MSFT</td>\n",
       "      <td>Microsoft Corporation</td>\n",
       "      <td>2,406.95B</td>\n",
       "      <td>323.95</td>\n",
       "      <td>-0.93%</td>\n",
       "      <td>211.92B</td>\n",
       "    </tr>\n",
       "    <tr>\n",
       "      <th>2</th>\n",
       "      <td>3</td>\n",
       "      <td>GOOGL</td>\n",
       "      <td>Alphabet Inc.</td>\n",
       "      <td>1,655.73B</td>\n",
       "      <td>131.68</td>\n",
       "      <td>-0.52%</td>\n",
       "      <td>289.53B</td>\n",
       "    </tr>\n",
       "    <tr>\n",
       "      <th>3</th>\n",
       "      <td>4</td>\n",
       "      <td>AMZN</td>\n",
       "      <td>Amazon.com, Inc.</td>\n",
       "      <td>1,369.35B</td>\n",
       "      <td>133.49</td>\n",
       "      <td>-1.45%</td>\n",
       "      <td>538.05B</td>\n",
       "    </tr>\n",
       "    <tr>\n",
       "      <th>4</th>\n",
       "      <td>5</td>\n",
       "      <td>NVDA</td>\n",
       "      <td>NVIDIA Corporation</td>\n",
       "      <td>1,176.76B</td>\n",
       "      <td>476.83</td>\n",
       "      <td>1.20%</td>\n",
       "      <td>25.88B</td>\n",
       "    </tr>\n",
       "  </tbody>\n",
       "</table>\n",
       "</div>"
      ],
      "text/plain": [
       "   0      1                      2          3       4       5        6\n",
       "0  1   AAPL             Apple Inc.  2,781.64B  178.01  -1.72%  383.93B\n",
       "1  2   MSFT  Microsoft Corporation  2,406.95B  323.95  -0.93%  211.92B\n",
       "2  3  GOOGL          Alphabet Inc.  1,655.73B  131.68  -0.52%  289.53B\n",
       "3  4   AMZN       Amazon.com, Inc.  1,369.35B  133.49  -1.45%  538.05B\n",
       "4  5   NVDA     NVIDIA Corporation  1,176.76B  476.83   1.20%   25.88B"
      ]
     },
     "execution_count": 6,
     "metadata": {},
     "output_type": "execute_result"
    }
   ],
   "source": [
    "table.head()"
   ]
  },
  {
   "cell_type": "code",
   "execution_count": 7,
   "metadata": {},
   "outputs": [],
   "source": [
    "# select top-10 tickers\n",
    "nasdaq_tickers = table.iloc[:,1].to_list()[:10]"
   ]
  },
  {
   "cell_type": "markdown",
   "metadata": {},
   "source": [
    "## 3. Run Scraper"
   ]
  },
  {
   "cell_type": "code",
   "execution_count": 8,
   "metadata": {},
   "outputs": [],
   "source": [
    "# scrape price data\n",
    "data = getData(nasdaq_tickers)"
   ]
  },
  {
   "cell_type": "code",
   "execution_count": 9,
   "metadata": {},
   "outputs": [],
   "source": [
    "df = pd.DataFrame(data)"
   ]
  },
  {
   "cell_type": "code",
   "execution_count": 10,
   "metadata": {},
   "outputs": [],
   "source": [
    "# save data to a csv\n",
    "df.to_csv(\"stocks_data.csv\", index=False)"
   ]
  },
  {
   "cell_type": "code",
   "execution_count": 11,
   "metadata": {},
   "outputs": [
    {
     "name": "stdout",
     "output_type": "stream",
     "text": [
      "Ticker,Price,Change,Percent Change\r\n",
      "AAPL,177.75,-3.369995,-1.8606422\r\n",
      "MSFT,323.81,-3.1900024,-0.9755359\r\n",
      "GOOGL,131.548,-0.82199097,-0.62097977\r\n",
      "AMZN,133.35,-2.1699982,-1.6012381999999998\r\n",
      "NVDA,475.44,4.279999,0.908396\r\n",
      "META,291.89,-2.3499756,-0.7986595000000001\r\n",
      "TSLA,229.8337,-7.026306,-2.9664386\r\n",
      "AVGO,863.6327,-12.947327,-1.4770273999999999\r\n",
      "ASML,652.73,-24.390015,-3.6020227\r\n"
     ]
    }
   ],
   "source": [
    "# checking csv is correct\n",
    "!head stocks_data.csv"
   ]
  }
 ],
 "metadata": {
  "kernelspec": {
   "display_name": "scraper",
   "language": "python",
   "name": "scraper"
  },
  "language_info": {
   "codemirror_mode": {
    "name": "ipython",
    "version": 3
   },
   "file_extension": ".py",
   "mimetype": "text/x-python",
   "name": "python",
   "nbconvert_exporter": "python",
   "pygments_lexer": "ipython3",
   "version": "3.10.12"
  }
 },
 "nbformat": 4,
 "nbformat_minor": 2
}
